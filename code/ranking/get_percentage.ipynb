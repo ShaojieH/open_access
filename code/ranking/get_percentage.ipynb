{
 "cells": [
  {
   "cell_type": "code",
   "execution_count": 1,
   "metadata": {},
   "outputs": [],
   "source": [
    "#get percentage from country data\n",
    "import numpy as np\n",
    "import json\n",
    "from matplotlib import pyplot as plt\n",
    "countries = ['china', 'usa']"
   ]
  },
  {
   "cell_type": "code",
   "execution_count": 2,
   "metadata": {},
   "outputs": [],
   "source": [
    "def get_ranking_from_percentage(percentage, ranking_data):\n",
    "    return ranking_data[int(percentage * len(ranking_data))]"
   ]
  },
  {
   "cell_type": "code",
   "execution_count": 3,
   "metadata": {},
   "outputs": [],
   "source": [
    "def get_percentage_from_index(index, ranking_data):\n",
    "    return index / len(ranking_data)"
   ]
  },
  {
   "cell_type": "code",
   "execution_count": 4,
   "metadata": {},
   "outputs": [],
   "source": [
    "def get_percentage_from_ranking(ranking, ranking_data):\n",
    "    if ranking < 0:\n",
    "        return -1\n",
    "    for index, single_ranking in enumerate(ranking_data):\n",
    "        if single_ranking['ranking'] == ranking:\n",
    "            return get_percentage_from_index(index, ranking_data)\n",
    "    return -1"
   ]
  },
  {
   "cell_type": "code",
   "execution_count": 5,
   "metadata": {},
   "outputs": [],
   "source": [
    "def get_fig(country_name):\n",
    "    ranking_data_path = \"../../data/ranking/sorted_usnews_ranking_\" +country_name+\".json\"\n",
    "    data_path = \"../../data/ieee/\"+country_name+\"_data_2018.json\"\n",
    "    with open(ranking_data_path) as f:\n",
    "        ranking_data = json.load(f)\n",
    "        print(get_ranking_from_percentage(0.02, ranking_data))\n",
    "        print(get_percentage_from_index(100, ranking_data))\n",
    "    with open(data_path) as f:\n",
    "        data = json.load(f)\n",
    "        list_of_percentage = [get_percentage_from_ranking(article['ranking'], ranking_data) for article in data]\n",
    "\n",
    "    plt.hist(list_of_percentage, bins=20)\n",
    "    plt.title(\"china2018 mean=\"+str(np.mean(list_of_percentage))+\" median=\"+str(np.median(list_of_percentage)))#+\" σ=\" + str(np.std(list_of_percentage)))\n",
    "    plt.savefig(data_path + '.png',format='png')\n",
    "    plt.clf()"
   ]
  },
  {
   "cell_type": "code",
   "execution_count": 6,
   "metadata": {
    "scrolled": true
   },
   "outputs": [
    {
     "name": "stdout",
     "output_type": "stream",
     "text": [
      "{'name': 'University of Science and Technology of China', 'ranking': 3}\n",
      "0.7692307692307693\n",
      "{'name': 'California Institute of Technology', 'ranking': 6}\n",
      "0.44052863436123346\n"
     ]
    },
    {
     "data": {
      "text/plain": [
       "<Figure size 432x288 with 0 Axes>"
      ]
     },
     "metadata": {},
     "output_type": "display_data"
    }
   ],
   "source": [
    "\n",
    "for country in countries:\n",
    "    get_fig(country)"
   ]
  },
  {
   "cell_type": "code",
   "execution_count": null,
   "metadata": {},
   "outputs": [],
   "source": []
  }
 ],
 "metadata": {
  "kernelspec": {
   "display_name": "Python 3",
   "language": "python",
   "name": "python3"
  },
  "language_info": {
   "codemirror_mode": {
    "name": "ipython",
    "version": 3
   },
   "file_extension": ".py",
   "mimetype": "text/x-python",
   "name": "python",
   "nbconvert_exporter": "python",
   "pygments_lexer": "ipython3",
   "version": "3.6.8"
  }
 },
 "nbformat": 4,
 "nbformat_minor": 2
}
