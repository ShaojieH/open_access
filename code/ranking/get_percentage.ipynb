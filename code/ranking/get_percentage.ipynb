{
 "cells": [
  {
   "cell_type": "code",
   "execution_count": 15,
   "metadata": {},
   "outputs": [],
   "source": [
    "#get percentage from country data\n",
    "import numpy as np\n",
    "import json\n",
    "from matplotlib import pyplot as plt\n",
    "countries = ['china', 'usa']\n",
    "years = ['2013','2014','2015','2016','2017','2018']"
   ]
  },
  {
   "cell_type": "code",
   "execution_count": 16,
   "metadata": {},
   "outputs": [],
   "source": [
    "def get_ranking_from_percentage(percentage, ranking_data):\n",
    "    return ranking_data[int(percentage * len(ranking_data))]"
   ]
  },
  {
   "cell_type": "code",
   "execution_count": 17,
   "metadata": {},
   "outputs": [],
   "source": [
    "def get_percentage_from_index(index, ranking_data):\n",
    "    return index / len(ranking_data)"
   ]
  },
  {
   "cell_type": "code",
   "execution_count": 18,
   "metadata": {},
   "outputs": [],
   "source": [
    "def get_percentage_from_ranking(ranking, ranking_data):\n",
    "    if ranking < 0:\n",
    "        return -1\n",
    "    for index, single_ranking in enumerate(ranking_data):\n",
    "        if single_ranking['ranking'] == ranking:\n",
    "            return get_percentage_from_index(index, ranking_data)\n",
    "    return -1"
   ]
  },
  {
   "cell_type": "code",
   "execution_count": 19,
   "metadata": {},
   "outputs": [],
   "source": [
    "def get_fig(country_name):\n",
    "    for year in years:\n",
    "        ranking_data_path = \"../../data/ranking/sorted_usnews_ranking_\" +country_name+\".json\"\n",
    "        data_path = \"../../data/ieee/\"+country_name+\"_data_\"+year+\".json\"\n",
    "        with open(ranking_data_path) as f:\n",
    "            ranking_data = json.load(f)\n",
    "        with open(data_path) as f:\n",
    "            data = json.load(f)\n",
    "            list_of_percentage = [get_percentage_from_ranking(article['ranking'], ranking_data) for article in data if get_percentage_from_ranking(article['ranking'], ranking_data) > 0]\n",
    "\n",
    "        plt.hist(list_of_percentage, bins=30)\n",
    "        plt.title(country_name + year+\" mean=\"+str(np.mean(list_of_percentage))+\" median=\"+str(np.median(list_of_percentage)))#+\" σ=\" + str(np.std(list_of_percentage)))\n",
    "        plt.savefig(data_path + '.png',format='png')\n",
    "        plt.clf()"
   ]
  },
  {
   "cell_type": "code",
   "execution_count": 20,
   "metadata": {
    "scrolled": true
   },
   "outputs": [
    {
     "data": {
      "text/plain": [
       "<Figure size 432x288 with 0 Axes>"
      ]
     },
     "metadata": {},
     "output_type": "display_data"
    }
   ],
   "source": [
    "\n",
    "for country in countries:\n",
    "    get_fig(country)"
   ]
  },
  {
   "cell_type": "code",
   "execution_count": null,
   "metadata": {},
   "outputs": [],
   "source": []
  }
 ],
 "metadata": {
  "kernelspec": {
   "display_name": "Python 3",
   "language": "python",
   "name": "python3"
  },
  "language_info": {
   "codemirror_mode": {
    "name": "ipython",
    "version": 3
   },
   "file_extension": ".py",
   "mimetype": "text/x-python",
   "name": "python",
   "nbconvert_exporter": "python",
   "pygments_lexer": "ipython3",
   "version": "3.6.8"
  }
 },
 "nbformat": 4,
 "nbformat_minor": 2
}
