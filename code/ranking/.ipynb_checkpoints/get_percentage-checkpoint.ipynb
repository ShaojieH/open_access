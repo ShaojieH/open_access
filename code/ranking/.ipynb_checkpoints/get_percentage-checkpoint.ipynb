{
 "cells": [
  {
   "cell_type": "code",
   "execution_count": 1,
   "metadata": {},
   "outputs": [],
   "source": [
    "#get percentage from country data\n",
    "import numpy as np\n",
    "import json\n",
    "from matplotlib import pyplot as plt\n",
    "ranking_data_path = \"../../data/ranking/sorted_usnews_ranking_us.backup.json\"\n",
    "data_path = \"../../data/ieee/usa_data_2018.json\"\n"
   ]
  },
  {
   "cell_type": "code",
   "execution_count": 2,
   "metadata": {},
   "outputs": [],
   "source": [
    "def get_ranking_from_percentage(percentage):\n",
    "    return ranking_data[int(percentage * len(ranking_data))]"
   ]
  },
  {
   "cell_type": "code",
   "execution_count": 3,
   "metadata": {},
   "outputs": [],
   "source": [
    "def get_percentage_from_index(index):\n",
    "    return index / len(ranking_data)"
   ]
  },
  {
   "cell_type": "code",
   "execution_count": 4,
   "metadata": {},
   "outputs": [],
   "source": [
    "def get_percentage_from_ranking(ranking):\n",
    "    if ranking < 0:\n",
    "        return -1\n",
    "    for index, single_ranking in enumerate(ranking_data):\n",
    "        if single_ranking['ranking'] == ranking:\n",
    "            return get_percentage_from_index(index)\n",
    "    return -1"
   ]
  },
  {
   "cell_type": "code",
   "execution_count": 5,
   "metadata": {},
   "outputs": [
    {
     "name": "stdout",
     "output_type": "stream",
     "text": [
      "{'name': 'College of William and Mary', 'ranking': 526}\n",
      "0.9691629955947136\n"
     ]
    }
   ],
   "source": [
    "with open(ranking_data_path) as f:\n",
    "    ranking_data = json.load(f)\n",
    "    print(get_ranking_from_percentage(0.6))\n",
    "    print(get_percentage_from_index(220))"
   ]
  },
  {
   "cell_type": "code",
   "execution_count": 14,
   "metadata": {},
   "outputs": [],
   "source": [
    "\n",
    "\n",
    "with open(data_path) as f:\n",
    "    data = json.load(f)\n",
    "    list_of_percentage = [get_percentage_from_ranking(article['ranking']) for article in data if get_percentage_from_ranking(article['ranking']) > 0]"
   ]
  },
  {
   "cell_type": "code",
   "execution_count": 26,
   "metadata": {},
   "outputs": [
    {
     "data": {
      "text/plain": [
       "[]"
      ]
     },
     "execution_count": 26,
     "metadata": {},
     "output_type": "execute_result"
    },
    {
     "data": {
      "image/png": "[encoded data removed]",
      "text/plain": [
       "<Figure size 432x288 with 1 Axes>"
      ]
     },
     "metadata": {
      "needs_background": "light"
     },
     "output_type": "display_data"
    }
   ],
   "source": [
    "\n",
    "plt.hist(list_of_percentage, bins=20)\n",
    "plt.title(\"mean=\"+str(np.mean(list_of_percentage))+\" median=\"+str(np.median(list_of_percentage))+\" σ=\" + str(np.std(list_of_percentage)))\n",
    "plt.plot()"
   ]
  },
  {
   "cell_type": "code",
   "execution_count": null,
   "metadata": {},
   "outputs": [],
   "source": []
  }
 ],
 "metadata": {
  "kernelspec": {
   "display_name": "Python 3",
   "language": "python",
   "name": "python3"
  },
  "language_info": {
   "codemirror_mode": {
    "name": "ipython",
    "version": 3
   },
   "file_extension": ".py",
   "mimetype": "text/x-python",
   "name": "python",
   "nbconvert_exporter": "python",
   "pygments_lexer": "ipython3",
   "version": "3.6.8"
  }
 },
 "nbformat": 4,
 "nbformat_minor": 2
}
