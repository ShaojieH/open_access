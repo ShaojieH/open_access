{
 "cells": [
  {
   "cell_type": "code",
   "execution_count": 1,
   "metadata": {},
   "outputs": [],
   "source": [
    "# add ranking to country data\n",
    "\n",
    "import json\n",
    "countries = ['china', 'usa']\n",
    "years = ['2018']"
   ]
  },
  {
   "cell_type": "code",
   "execution_count": 2,
   "metadata": {},
   "outputs": [],
   "source": [
    "def clean(s):\n",
    "    return s.replace(' at ','').replace('-','').replace(',','').replace(' ','')"
   ]
  },
  {
   "cell_type": "code",
   "execution_count": 3,
   "metadata": {},
   "outputs": [],
   "source": [
    "def get_rank_from_name(name,rankings):\n",
    "    max_len = -1\n",
    "    max_index = -1\n",
    "    for index, row in enumerate(rankings):\n",
    "        if clean(row['name']) in clean(name):\n",
    "        #if (row['name'] in name or row['name'].replace('--',' at ') in name) and len(row['name']) > max_len:\n",
    "            max_len = len(row['name'])\n",
    "            max_index = index\n",
    "    return  (-1 if max_index == -1 else rankings[max_index]['ranking'])"
   ]
  },
  {
   "cell_type": "code",
   "execution_count": 4,
   "metadata": {},
   "outputs": [],
   "source": [
    "def get_ranking(country_name):\n",
    "    for year in years:\n",
    "        data_path = \"../../data/hindawi/\"+country_name+\"_data_\"+year+\".json\"\n",
    "        ranking_path = \"../../data/ranking/sorted_usnews_ranking_\"+country_name+\".json\"\n",
    "        with open(data_path) as f:\n",
    "            data = json.load(f)\n",
    "        with open(ranking_path) as f:\n",
    "            rankings = json.load(f)\n",
    "        for article in data:\n",
    "            ranking = get_rank_from_name(article['affiliation_name'],rankings)\n",
    "            article['ranking'] = ranking\n",
    "        with open(data_path,'w') as f:\n",
    "            json.dump(data, f, indent=4)"
   ]
  },
  {
   "cell_type": "code",
   "execution_count": 5,
   "metadata": {},
   "outputs": [],
   "source": [
    "for country_name in countries:\n",
    "    get_ranking(country_name)"
   ]
  },
  {
   "cell_type": "code",
   "execution_count": null,
   "metadata": {},
   "outputs": [],
   "source": []
  }
 ],
 "metadata": {
  "kernelspec": {
   "display_name": "Python 3",
   "language": "python",
   "name": "python3"
  },
  "language_info": {
   "codemirror_mode": {
    "name": "ipython",
    "version": 3
   },
   "file_extension": ".py",
   "mimetype": "text/x-python",
   "name": "python",
   "nbconvert_exporter": "python",
   "pygments_lexer": "ipython3",
   "version": "3.6.8"
  }
 },
 "nbformat": 4,
 "nbformat_minor": 2
}
