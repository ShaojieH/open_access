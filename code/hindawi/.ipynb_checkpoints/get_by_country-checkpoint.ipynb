{
 "cells": [
  {
   "cell_type": "code",
   "execution_count": 11,
   "metadata": {},
   "outputs": [],
   "source": [
    "#get data seperated by country\n",
    "\n",
    "import json\n",
    "years = ['2018']\n",
    "countries = ['China','USA']"
   ]
  },
  {
   "cell_type": "code",
   "execution_count": 14,
   "metadata": {},
   "outputs": [],
   "source": [
    "for year in years:\n",
    "    hindnawi_data_path = \"../../data/hindawi/hindawi_\"+year+\".json\"\n",
    "    with open(hindnawi_data_path) as f:\n",
    "        data_all = json.load(f)\n",
    "    for country in countries:\n",
    "        data = [data for data in data_all if 'author_affiliation' in data and data['author_affiliation'][0].endswith(country)]\n",
    "        for item in data:\n",
    "            item['affiliation_name'] = item['author_affiliation'][0]\n",
    "            item['title'] = item['title'][0]\n",
    "            del(item['author_id'])\n",
    "            del(item['date'])\n",
    "            del(item['author_affiliation'])\n",
    "        country_data_path = \"../../data/hindawi/\"+country.lower()+\"_data_\"+year+\".json\"\n",
    "        with open(country_data_path,'w') as f:\n",
    "            json.dump(data,f,indent = 4)"
   ]
  },
  {
   "cell_type": "code",
   "execution_count": null,
   "metadata": {},
   "outputs": [],
   "source": []
  }
 ],
 "metadata": {
  "kernelspec": {
   "display_name": "Python 3",
   "language": "python",
   "name": "python3"
  },
  "language_info": {
   "codemirror_mode": {
    "name": "ipython",
    "version": 3
   },
   "file_extension": ".py",
   "mimetype": "text/x-python",
   "name": "python",
   "nbconvert_exporter": "python",
   "pygments_lexer": "ipython3",
   "version": "3.6.8"
  }
 },
 "nbformat": 4,
 "nbformat_minor": 2
}
