{
 "cells": [
  {
   "cell_type": "code",
   "execution_count": 1,
   "metadata": {},
   "outputs": [],
   "source": [
    "import json\n",
    "\n",
    "ieee_country_data_path = \"../../data/ieee/country_data_2018.json\"\n",
    "with open(ieee_country_data_path) as f:\n",
    "    data_all = json.load(f)"
   ]
  },
  {
   "cell_type": "code",
   "execution_count": 2,
   "metadata": {},
   "outputs": [],
   "source": [
    "countries = ['USA', 'China']\n",
    "\n",
    "for country in countries:\n",
    "    data = [data for data in data_all if data['country'] == country]\n",
    "    for item in data:\n",
    "        item['affiliation_name'] = item['authors'][0]['affiliation']\n",
    "        del(item['authors'])\n",
    "    country_data_path = \"../../data/ieee/\"+country.lower()+\"_data_2018.json\"\n",
    "    with open(country_data_path,'w') as f:\n",
    "        json.dump(data,f,indent = 4)"
   ]
  },
  {
   "cell_type": "code",
   "execution_count": null,
   "metadata": {},
   "outputs": [],
   "source": []
  }
 ],
 "metadata": {
  "kernelspec": {
   "display_name": "Python 3",
   "language": "python",
   "name": "python3"
  },
  "language_info": {
   "codemirror_mode": {
    "name": "ipython",
    "version": 3
   },
   "file_extension": ".py",
   "mimetype": "text/x-python",
   "name": "python",
   "nbconvert_exporter": "python",
   "pygments_lexer": "ipython3",
   "version": "3.6.8"
  }
 },
 "nbformat": 4,
 "nbformat_minor": 2
}
