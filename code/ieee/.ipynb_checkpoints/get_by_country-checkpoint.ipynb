{
 "cells": [
  {
   "cell_type": "code",
   "execution_count": 5,
   "metadata": {},
   "outputs": [],
   "source": [
    "#get data seperated by country\n",
    "\n",
    "import json\n",
    "years = ['2013','2014','2015','2016','2017','2018']\n",
    "\n"
   ]
  },
  {
   "cell_type": "code",
   "execution_count": 7,
   "metadata": {},
   "outputs": [],
   "source": [
    "\n",
    "for year in years:\n",
    "    ieee_country_data_path = \"../../data/ieee/country_data_\"+year+\".json\"\n",
    "    with open(ieee_country_data_path) as f:\n",
    "        data_all = json.load(f)\n",
    "    for country in countries:\n",
    "        data = [data for data in data_all if data['country'] == country]\n",
    "        for item in data:\n",
    "            item['affiliation_name'] = item['authors'][0]['affiliation']\n",
    "            del(item['authors'])\n",
    "        country_data_path = \"../../data/ieee/\"+country.lower()+\"_data_\"+year+\".json\"\n",
    "        with open(country_data_path,'w') as f:\n",
    "            json.dump(data,f,indent = 4)"
   ]
  },
  {
   "cell_type": "code",
   "execution_count": null,
   "metadata": {},
   "outputs": [],
   "source": []
  }
 ],
 "metadata": {
  "kernelspec": {
   "display_name": "Python 3",
   "language": "python",
   "name": "python3"
  },
  "language_info": {
   "codemirror_mode": {
    "name": "ipython",
    "version": 3
   },
   "file_extension": ".py",
   "mimetype": "text/x-python",
   "name": "python",
   "nbconvert_exporter": "python",
   "pygments_lexer": "ipython3",
   "version": "3.6.8"
  }
 },
 "nbformat": 4,
 "nbformat_minor": 2
}
